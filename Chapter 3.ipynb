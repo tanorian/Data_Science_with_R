{
 "cells": [
  {
   "cell_type": "markdown",
   "metadata": {},
   "source": [
    "# Programming Basics"
   ]
  },
  {
   "cell_type": "markdown",
   "metadata": {},
   "source": [
    "### Conditional Expressions"
   ]
  },
  {
   "cell_type": "markdown",
   "metadata": {},
   "source": [
    "if and else: "
   ]
  },
  {
   "cell_type": "code",
   "execution_count": 4,
   "metadata": {},
   "outputs": [
    {
     "name": "stdout",
     "output_type": "stream",
     "text": [
      "[1] \"Vermont\"\n"
     ]
    }
   ],
   "source": [
    "library(dslabs)\n",
    "data(murders)\n",
    "murder_rate <- murders$total/murders$population*100000\n",
    "ind <- which.min(murder_rate)\n",
    "if(murder_rate[ind] < 0.5) {\n",
    "    print(murders$state[ind])\n",
    "} else {\n",
    "    print(\"No state has a homicide rate that low\")\n",
    "}"
   ]
  },
  {
   "cell_type": "code",
   "execution_count": 5,
   "metadata": {},
   "outputs": [
    {
     "name": "stdout",
     "output_type": "stream",
     "text": [
      "[1] \"No state has a homicide rate that low\"\n"
     ]
    }
   ],
   "source": [
    "library(dslabs)\n",
    "data(murders)\n",
    "murder_rate <- murders$total/murders$population*100000\n",
    "ind <- which.min(murder_rate)\n",
    "if(murder_rate[ind] < 0.25) {\n",
    "    print(murders$state[ind])\n",
    "} else {\n",
    "    print(\"No state has a homicide rate that low\")\n",
    "}"
   ]
  },
  {
   "cell_type": "markdown",
   "metadata": {},
   "source": [
    "There is also an ifelse function that takes three arguments: a logical statement, what to do if TRUE, and what to do if FALSE."
   ]
  },
  {
   "cell_type": "code",
   "execution_count": 6,
   "metadata": {},
   "outputs": [
    {
     "data": {
      "text/html": [
       "<ol class=list-inline>\n",
       "\t<li>&lt;NA&gt;</li>\n",
       "\t<li>1</li>\n",
       "\t<li>0.5</li>\n",
       "\t<li>&lt;NA&gt;</li>\n",
       "\t<li>0.2</li>\n",
       "</ol>\n"
      ],
      "text/latex": [
       "\\begin{enumerate*}\n",
       "\\item <NA>\n",
       "\\item 1\n",
       "\\item 0.5\n",
       "\\item <NA>\n",
       "\\item 0.2\n",
       "\\end{enumerate*}\n"
      ],
      "text/markdown": [
       "1. &lt;NA&gt;\n",
       "2. 1\n",
       "3. 0.5\n",
       "4. &lt;NA&gt;\n",
       "5. 0.2\n",
       "\n",
       "\n"
      ],
      "text/plain": [
       "[1]  NA 1.0 0.5  NA 0.2"
      ]
     },
     "metadata": {},
     "output_type": "display_data"
    }
   ],
   "source": [
    "a <- c(0, 1, 2, -4, 5)\n",
    "result <- ifelse(a>0, 1/a, NA)\n",
    "result"
   ]
  },
  {
   "cell_type": "markdown",
   "metadata": {},
   "source": [
    "You can use this to replace all \"NA\" values in a vector with 0: "
   ]
  },
  {
   "cell_type": "code",
   "execution_count": 8,
   "metadata": {},
   "outputs": [
    {
     "data": {
      "text/html": [
       "0"
      ],
      "text/latex": [
       "0"
      ],
      "text/markdown": [
       "0"
      ],
      "text/plain": [
       "[1] 0"
      ]
     },
     "metadata": {},
     "output_type": "display_data"
    }
   ],
   "source": [
    "data(na_example)\n",
    "no_nas <- ifelse(is.na(na_example), 0, na_example)\n",
    "sum(is.na(no_nas))  # Shows there are no NA values in no_nas if sum = 0"
   ]
  },
  {
   "cell_type": "markdown",
   "metadata": {},
   "source": [
    "### Defining Functions"
   ]
  },
  {
   "cell_type": "markdown",
   "metadata": {},
   "source": [
    "You define a function by using the 'function' keyword.  A function is defined like a variable, using the  <- operator to set the value of the variable to the function definition."
   ]
  },
  {
   "cell_type": "code",
   "execution_count": 9,
   "metadata": {},
   "outputs": [
    {
     "data": {
      "text/html": [
       "50.5"
      ],
      "text/latex": [
       "50.5"
      ],
      "text/markdown": [
       "50.5"
      ],
      "text/plain": [
       "[1] 50.5"
      ]
     },
     "metadata": {},
     "output_type": "display_data"
    }
   ],
   "source": [
    "avg <- function(x) {\n",
    "    s <- sum(x)     # variable only exists in this function\n",
    "    n <- length(x)  # variable only exists in this function\n",
    "    s/n # no 'return' statement needed, the function returns the last expression evaluated in the function\n",
    "}\n",
    "\n",
    "avg(1:100)"
   ]
  },
  {
   "cell_type": "markdown",
   "metadata": {},
   "source": [
    "Here is a function that takes multiple arguments:"
   ]
  },
  {
   "cell_type": "code",
   "execution_count": 10,
   "metadata": {},
   "outputs": [
    {
     "data": {
      "text/html": [
       "50.5"
      ],
      "text/latex": [
       "50.5"
      ],
      "text/markdown": [
       "50.5"
      ],
      "text/plain": [
       "[1] 50.5"
      ]
     },
     "metadata": {},
     "output_type": "display_data"
    },
    {
     "data": {
      "text/html": [
       "37.9926893448343"
      ],
      "text/latex": [
       "37.9926893448343"
      ],
      "text/markdown": [
       "37.9926893448343"
      ],
      "text/plain": [
       "[1] 37.99269"
      ]
     },
     "metadata": {},
     "output_type": "display_data"
    }
   ],
   "source": [
    "avg <- function(x, arithmetic = TRUE) {\n",
    "    #  returns either arithmetic or geometric average\n",
    "    n <- length(x)  # variable only exists in this function\n",
    "    ifelse(arithmetic, sum(x)/n, prod(x)^(1/n))\n",
    "}\n",
    "\n",
    "avg(1:100, TRUE)\n",
    "avg(1:100, FALSE)"
   ]
  },
  {
   "cell_type": "markdown",
   "metadata": {},
   "source": [
    "Use the \"double colon\" syntax to refer to functions with the same name in different packages (this is an example of Namespaces)."
   ]
  },
  {
   "cell_type": "code",
   "execution_count": 11,
   "metadata": {},
   "outputs": [
    {
     "data": {
      "text/html": [
       "<ol class=list-inline>\n",
       "\t<li>'.GlobalEnv'</li>\n",
       "\t<li>'package:dslabs'</li>\n",
       "\t<li>'jupyter:irkernel'</li>\n",
       "\t<li>'package:stats'</li>\n",
       "\t<li>'package:graphics'</li>\n",
       "\t<li>'package:grDevices'</li>\n",
       "\t<li>'package:utils'</li>\n",
       "\t<li>'package:datasets'</li>\n",
       "\t<li>'package:methods'</li>\n",
       "\t<li>'Autoloads'</li>\n",
       "\t<li>'package:base'</li>\n",
       "</ol>\n"
      ],
      "text/latex": [
       "\\begin{enumerate*}\n",
       "\\item '.GlobalEnv'\n",
       "\\item 'package:dslabs'\n",
       "\\item 'jupyter:irkernel'\n",
       "\\item 'package:stats'\n",
       "\\item 'package:graphics'\n",
       "\\item 'package:grDevices'\n",
       "\\item 'package:utils'\n",
       "\\item 'package:datasets'\n",
       "\\item 'package:methods'\n",
       "\\item 'Autoloads'\n",
       "\\item 'package:base'\n",
       "\\end{enumerate*}\n"
      ],
      "text/markdown": [
       "1. '.GlobalEnv'\n",
       "2. 'package:dslabs'\n",
       "3. 'jupyter:irkernel'\n",
       "4. 'package:stats'\n",
       "5. 'package:graphics'\n",
       "6. 'package:grDevices'\n",
       "7. 'package:utils'\n",
       "8. 'package:datasets'\n",
       "9. 'package:methods'\n",
       "10. 'Autoloads'\n",
       "11. 'package:base'\n",
       "\n",
       "\n"
      ],
      "text/plain": [
       " [1] \".GlobalEnv\"        \"package:dslabs\"    \"jupyter:irkernel\" \n",
       " [4] \"package:stats\"     \"package:graphics\"  \"package:grDevices\"\n",
       " [7] \"package:utils\"     \"package:datasets\"  \"package:methods\"  \n",
       "[10] \"Autoloads\"         \"package:base\"     "
      ]
     },
     "metadata": {},
     "output_type": "display_data"
    }
   ],
   "source": [
    "search()"
   ]
  },
  {
   "cell_type": "code",
   "execution_count": 12,
   "metadata": {},
   "outputs": [
    {
     "data": {
      "text/html": [
       "<pre class=language-r><code>function (x, filter, method = c(\"convolution\", \"recursive\"), \n",
       "<span style=white-space:pre-wrap>    sides = 2L, circular = FALSE, init = NULL) </span>\n",
       "{\n",
       "<span style=white-space:pre-wrap>    method &lt;- match.arg(method)</span>\n",
       "<span style=white-space:pre-wrap>    x &lt;- as.ts(x)</span>\n",
       "<span style=white-space:pre-wrap>    storage.mode(x) &lt;- \"double\"</span>\n",
       "<span style=white-space:pre-wrap>    xtsp &lt;- tsp(x)</span>\n",
       "<span style=white-space:pre-wrap>    n &lt;- as.integer(NROW(x))</span>\n",
       "<span style=white-space:pre-wrap>    if (is.na(n)) </span>\n",
       "<span style=white-space:pre-wrap>        stop(gettextf(\"invalid value of %s\", \"NROW(x)\"), domain = NA)</span>\n",
       "<span style=white-space:pre-wrap>    nser &lt;- NCOL(x)</span>\n",
       "<span style=white-space:pre-wrap>    filter &lt;- as.double(filter)</span>\n",
       "<span style=white-space:pre-wrap>    nfilt &lt;- as.integer(length(filter))</span>\n",
       "<span style=white-space:pre-wrap>    if (is.na(nfilt)) </span>\n",
       "<span style=white-space:pre-wrap>        stop(gettextf(\"invalid value of %s\", \"length(filter)\"), </span>\n",
       "<span style=white-space:pre-wrap>            domain = NA)</span>\n",
       "<span style=white-space:pre-wrap>    if (anyNA(filter)) </span>\n",
       "<span style=white-space:pre-wrap>        stop(\"missing values in 'filter'\")</span>\n",
       "<span style=white-space:pre-wrap>    if (method == \"convolution\") {</span>\n",
       "<span style=white-space:pre-wrap>        if (nfilt &gt; n) </span>\n",
       "<span style=white-space:pre-wrap>            stop(\"'filter' is longer than time series\")</span>\n",
       "<span style=white-space:pre-wrap>        sides &lt;- as.integer(sides)</span>\n",
       "<span style=white-space:pre-wrap>        if (is.na(sides) || (sides != 1L &amp;&amp; sides != 2L)) </span>\n",
       "<span style=white-space:pre-wrap>            stop(\"argument 'sides' must be 1 or 2\")</span>\n",
       "<span style=white-space:pre-wrap>        circular &lt;- as.logical(circular)</span>\n",
       "<span style=white-space:pre-wrap>        if (is.na(circular)) </span>\n",
       "<span style=white-space:pre-wrap>            stop(\"'circular' must be logical and not NA\")</span>\n",
       "<span style=white-space:pre-wrap>        if (is.matrix(x)) {</span>\n",
       "<span style=white-space:pre-wrap>            y &lt;- matrix(NA, n, nser)</span>\n",
       "<span style=white-space:pre-wrap>            for (i in seq_len(nser)) y[, i] &lt;- .Call(C_cfilter, </span>\n",
       "<span style=white-space:pre-wrap>                x[, i], filter, sides, circular)</span>\n",
       "<span style=white-space:pre-wrap>        }</span>\n",
       "<span style=white-space:pre-wrap>        else y &lt;- .Call(C_cfilter, x, filter, sides, circular)</span>\n",
       "<span style=white-space:pre-wrap>    }</span>\n",
       "<span style=white-space:pre-wrap>    else {</span>\n",
       "<span style=white-space:pre-wrap>        if (missing(init)) {</span>\n",
       "<span style=white-space:pre-wrap>            init &lt;- matrix(0, nfilt, nser)</span>\n",
       "<span style=white-space:pre-wrap>        }</span>\n",
       "<span style=white-space:pre-wrap>        else {</span>\n",
       "<span style=white-space:pre-wrap>            ni &lt;- NROW(init)</span>\n",
       "<span style=white-space:pre-wrap>            if (ni != nfilt) </span>\n",
       "<span style=white-space:pre-wrap>                stop(\"length of 'init' must equal length of 'filter'\")</span>\n",
       "<span style=white-space:pre-wrap>            if (NCOL(init) != 1L &amp;&amp; NCOL(init) != nser) {</span>\n",
       "<span style=white-space:pre-wrap>                stop(sprintf(ngettext(nser, \"'init' must have %d column\", </span>\n",
       "<span style=white-space:pre-wrap>                  \"'init' must have 1 or %d columns\", domain = \"R-stats\"), </span>\n",
       "<span style=white-space:pre-wrap>                  nser), domain = NA)</span>\n",
       "<span style=white-space:pre-wrap>            }</span>\n",
       "<span style=white-space:pre-wrap>            if (!is.matrix(init)) </span>\n",
       "<span style=white-space:pre-wrap>                dim(init) &lt;- c(nfilt, nser)</span>\n",
       "<span style=white-space:pre-wrap>        }</span>\n",
       "<span style=white-space:pre-wrap>        ind &lt;- seq_len(nfilt)</span>\n",
       "<span style=white-space:pre-wrap>        if (is.matrix(x)) {</span>\n",
       "<span style=white-space:pre-wrap>            y &lt;- matrix(NA, n, nser)</span>\n",
       "<span style=white-space:pre-wrap>            for (i in seq_len(nser)) y[, i] &lt;- .Call(C_rfilter, </span>\n",
       "<span style=white-space:pre-wrap>                x[, i], filter, c(rev(init[, i]), double(n)))[-ind]</span>\n",
       "<span style=white-space:pre-wrap>        }</span>\n",
       "<span style=white-space:pre-wrap>        else y &lt;- .Call(C_rfilter, x, filter, c(rev(init[, 1L]), </span>\n",
       "<span style=white-space:pre-wrap>            double(n)))[-ind]</span>\n",
       "<span style=white-space:pre-wrap>    }</span>\n",
       "<span style=white-space:pre-wrap>    tsp(y) &lt;- xtsp</span>\n",
       "<span style=white-space:pre-wrap>    class(y) &lt;- if (nser &gt; 1L) </span>\n",
       "<span style=white-space:pre-wrap>        c(\"mts\", \"ts\")</span>\n",
       "<span style=white-space:pre-wrap>    else \"ts\"</span>\n",
       "<span style=white-space:pre-wrap>    y</span>\n",
       "}</code></pre>"
      ],
      "text/latex": [
       "\\begin{minted}{r}\n",
       "function (x, filter, method = c(\"convolution\", \"recursive\"), \n",
       "    sides = 2L, circular = FALSE, init = NULL) \n",
       "\\{\n",
       "    method <- match.arg(method)\n",
       "    x <- as.ts(x)\n",
       "    storage.mode(x) <- \"double\"\n",
       "    xtsp <- tsp(x)\n",
       "    n <- as.integer(NROW(x))\n",
       "    if (is.na(n)) \n",
       "        stop(gettextf(\"invalid value of \\%s\", \"NROW(x)\"), domain = NA)\n",
       "    nser <- NCOL(x)\n",
       "    filter <- as.double(filter)\n",
       "    nfilt <- as.integer(length(filter))\n",
       "    if (is.na(nfilt)) \n",
       "        stop(gettextf(\"invalid value of \\%s\", \"length(filter)\"), \n",
       "            domain = NA)\n",
       "    if (anyNA(filter)) \n",
       "        stop(\"missing values in 'filter'\")\n",
       "    if (method == \"convolution\") \\{\n",
       "        if (nfilt > n) \n",
       "            stop(\"'filter' is longer than time series\")\n",
       "        sides <- as.integer(sides)\n",
       "        if (is.na(sides) \\textbar{}\\textbar{} (sides != 1L \\&\\& sides != 2L)) \n",
       "            stop(\"argument 'sides' must be 1 or 2\")\n",
       "        circular <- as.logical(circular)\n",
       "        if (is.na(circular)) \n",
       "            stop(\"'circular' must be logical and not NA\")\n",
       "        if (is.matrix(x)) \\{\n",
       "            y <- matrix(NA, n, nser)\n",
       "            for (i in seq\\_len(nser)) y{[}, i{]} <- .Call(C\\_cfilter, \n",
       "                x{[}, i{]}, filter, sides, circular)\n",
       "        \\}\n",
       "        else y <- .Call(C\\_cfilter, x, filter, sides, circular)\n",
       "    \\}\n",
       "    else \\{\n",
       "        if (missing(init)) \\{\n",
       "            init <- matrix(0, nfilt, nser)\n",
       "        \\}\n",
       "        else \\{\n",
       "            ni <- NROW(init)\n",
       "            if (ni != nfilt) \n",
       "                stop(\"length of 'init' must equal length of 'filter'\")\n",
       "            if (NCOL(init) != 1L \\&\\& NCOL(init) != nser) \\{\n",
       "                stop(sprintf(ngettext(nser, \"'init' must have \\%d column\", \n",
       "                  \"'init' must have 1 or \\%d columns\", domain = \"R-stats\"), \n",
       "                  nser), domain = NA)\n",
       "            \\}\n",
       "            if (!is.matrix(init)) \n",
       "                dim(init) <- c(nfilt, nser)\n",
       "        \\}\n",
       "        ind <- seq\\_len(nfilt)\n",
       "        if (is.matrix(x)) \\{\n",
       "            y <- matrix(NA, n, nser)\n",
       "            for (i in seq\\_len(nser)) y{[}, i{]} <- .Call(C\\_rfilter, \n",
       "                x{[}, i{]}, filter, c(rev(init{[}, i{]}), double(n))){[}-ind{]}\n",
       "        \\}\n",
       "        else y <- .Call(C\\_rfilter, x, filter, c(rev(init{[}, 1L{]}), \n",
       "            double(n))){[}-ind{]}\n",
       "    \\}\n",
       "    tsp(y) <- xtsp\n",
       "    class(y) <- if (nser > 1L) \n",
       "        c(\"mts\", \"ts\")\n",
       "    else \"ts\"\n",
       "    y\n",
       "\\}\n",
       "\\end{minted}"
      ],
      "text/markdown": [
       "```r\n",
       "function (x, filter, method = c(\"convolution\", \"recursive\"), \n",
       "    sides = 2L, circular = FALSE, init = NULL) \n",
       "{\n",
       "    method <- match.arg(method)\n",
       "    x <- as.ts(x)\n",
       "    storage.mode(x) <- \"double\"\n",
       "    xtsp <- tsp(x)\n",
       "    n <- as.integer(NROW(x))\n",
       "    if (is.na(n)) \n",
       "        stop(gettextf(\"invalid value of %s\", \"NROW(x)\"), domain = NA)\n",
       "    nser <- NCOL(x)\n",
       "    filter <- as.double(filter)\n",
       "    nfilt <- as.integer(length(filter))\n",
       "    if (is.na(nfilt)) \n",
       "        stop(gettextf(\"invalid value of %s\", \"length(filter)\"), \n",
       "            domain = NA)\n",
       "    if (anyNA(filter)) \n",
       "        stop(\"missing values in 'filter'\")\n",
       "    if (method == \"convolution\") {\n",
       "        if (nfilt > n) \n",
       "            stop(\"'filter' is longer than time series\")\n",
       "        sides <- as.integer(sides)\n",
       "        if (is.na(sides) || (sides != 1L && sides != 2L)) \n",
       "            stop(\"argument 'sides' must be 1 or 2\")\n",
       "        circular <- as.logical(circular)\n",
       "        if (is.na(circular)) \n",
       "            stop(\"'circular' must be logical and not NA\")\n",
       "        if (is.matrix(x)) {\n",
       "            y <- matrix(NA, n, nser)\n",
       "            for (i in seq_len(nser)) y[, i] <- .Call(C_cfilter, \n",
       "                x[, i], filter, sides, circular)\n",
       "        }\n",
       "        else y <- .Call(C_cfilter, x, filter, sides, circular)\n",
       "    }\n",
       "    else {\n",
       "        if (missing(init)) {\n",
       "            init <- matrix(0, nfilt, nser)\n",
       "        }\n",
       "        else {\n",
       "            ni <- NROW(init)\n",
       "            if (ni != nfilt) \n",
       "                stop(\"length of 'init' must equal length of 'filter'\")\n",
       "            if (NCOL(init) != 1L && NCOL(init) != nser) {\n",
       "                stop(sprintf(ngettext(nser, \"'init' must have %d column\", \n",
       "                  \"'init' must have 1 or %d columns\", domain = \"R-stats\"), \n",
       "                  nser), domain = NA)\n",
       "            }\n",
       "            if (!is.matrix(init)) \n",
       "                dim(init) <- c(nfilt, nser)\n",
       "        }\n",
       "        ind <- seq_len(nfilt)\n",
       "        if (is.matrix(x)) {\n",
       "            y <- matrix(NA, n, nser)\n",
       "            for (i in seq_len(nser)) y[, i] <- .Call(C_rfilter, \n",
       "                x[, i], filter, c(rev(init[, i]), double(n)))[-ind]\n",
       "        }\n",
       "        else y <- .Call(C_rfilter, x, filter, c(rev(init[, 1L]), \n",
       "            double(n)))[-ind]\n",
       "    }\n",
       "    tsp(y) <- xtsp\n",
       "    class(y) <- if (nser > 1L) \n",
       "        c(\"mts\", \"ts\")\n",
       "    else \"ts\"\n",
       "    y\n",
       "}\n",
       "```"
      ],
      "text/plain": [
       "function (x, filter, method = c(\"convolution\", \"recursive\"), \n",
       "    sides = 2L, circular = FALSE, init = NULL) \n",
       "{\n",
       "    method <- match.arg(method)\n",
       "    x <- as.ts(x)\n",
       "    storage.mode(x) <- \"double\"\n",
       "    xtsp <- tsp(x)\n",
       "    n <- as.integer(NROW(x))\n",
       "    if (is.na(n)) \n",
       "        stop(gettextf(\"invalid value of %s\", \"NROW(x)\"), domain = NA)\n",
       "    nser <- NCOL(x)\n",
       "    filter <- as.double(filter)\n",
       "    nfilt <- as.integer(length(filter))\n",
       "    if (is.na(nfilt)) \n",
       "        stop(gettextf(\"invalid value of %s\", \"length(filter)\"), \n",
       "            domain = NA)\n",
       "    if (anyNA(filter)) \n",
       "        stop(\"missing values in 'filter'\")\n",
       "    if (method == \"convolution\") {\n",
       "        if (nfilt > n) \n",
       "            stop(\"'filter' is longer than time series\")\n",
       "        sides <- as.integer(sides)\n",
       "        if (is.na(sides) || (sides != 1L && sides != 2L)) \n",
       "            stop(\"argument 'sides' must be 1 or 2\")\n",
       "        circular <- as.logical(circular)\n",
       "        if (is.na(circular)) \n",
       "            stop(\"'circular' must be logical and not NA\")\n",
       "        if (is.matrix(x)) {\n",
       "            y <- matrix(NA, n, nser)\n",
       "            for (i in seq_len(nser)) y[, i] <- .Call(C_cfilter, \n",
       "                x[, i], filter, sides, circular)\n",
       "        }\n",
       "        else y <- .Call(C_cfilter, x, filter, sides, circular)\n",
       "    }\n",
       "    else {\n",
       "        if (missing(init)) {\n",
       "            init <- matrix(0, nfilt, nser)\n",
       "        }\n",
       "        else {\n",
       "            ni <- NROW(init)\n",
       "            if (ni != nfilt) \n",
       "                stop(\"length of 'init' must equal length of 'filter'\")\n",
       "            if (NCOL(init) != 1L && NCOL(init) != nser) {\n",
       "                stop(sprintf(ngettext(nser, \"'init' must have %d column\", \n",
       "                  \"'init' must have 1 or %d columns\", domain = \"R-stats\"), \n",
       "                  nser), domain = NA)\n",
       "            }\n",
       "            if (!is.matrix(init)) \n",
       "                dim(init) <- c(nfilt, nser)\n",
       "        }\n",
       "        ind <- seq_len(nfilt)\n",
       "        if (is.matrix(x)) {\n",
       "            y <- matrix(NA, n, nser)\n",
       "            for (i in seq_len(nser)) y[, i] <- .Call(C_rfilter, \n",
       "                x[, i], filter, c(rev(init[, i]), double(n)))[-ind]\n",
       "        }\n",
       "        else y <- .Call(C_rfilter, x, filter, c(rev(init[, 1L]), \n",
       "            double(n)))[-ind]\n",
       "    }\n",
       "    tsp(y) <- xtsp\n",
       "    class(y) <- if (nser > 1L) \n",
       "        c(\"mts\", \"ts\")\n",
       "    else \"ts\"\n",
       "    y\n",
       "}\n",
       "<bytecode: 0x0000000006380d10>\n",
       "<environment: namespace:stats>"
      ]
     },
     "metadata": {},
     "output_type": "display_data"
    },
    {
     "data": {
      "text/html": [
       "<pre class=language-r><code>function (.data, ..., .preserve = FALSE) \n",
       "{\n",
       "<span style=white-space:pre-wrap>    UseMethod(\"filter\")</span>\n",
       "}</code></pre>"
      ],
      "text/latex": [
       "\\begin{minted}{r}\n",
       "function (.data, ..., .preserve = FALSE) \n",
       "\\{\n",
       "    UseMethod(\"filter\")\n",
       "\\}\n",
       "\\end{minted}"
      ],
      "text/markdown": [
       "```r\n",
       "function (.data, ..., .preserve = FALSE) \n",
       "{\n",
       "    UseMethod(\"filter\")\n",
       "}\n",
       "```"
      ],
      "text/plain": [
       "function (.data, ..., .preserve = FALSE) \n",
       "{\n",
       "    UseMethod(\"filter\")\n",
       "}\n",
       "<bytecode: 0x0000000005f00ca0>\n",
       "<environment: namespace:dplyr>"
      ]
     },
     "metadata": {},
     "output_type": "display_data"
    }
   ],
   "source": [
    "stats::filter\n",
    "dplyr::filter"
   ]
  },
  {
   "cell_type": "markdown",
   "metadata": {},
   "source": [
    "### For-loops"
   ]
  },
  {
   "cell_type": "code",
   "execution_count": 13,
   "metadata": {},
   "outputs": [
    {
     "name": "stdout",
     "output_type": "stream",
     "text": [
      "[1] 1\n",
      "[1] 2\n",
      "[1] 3\n",
      "[1] 4\n",
      "[1] 5\n"
     ]
    }
   ],
   "source": [
    "for(i in 1:5) {\n",
    "    print(i)\n",
    "}"
   ]
  },
  {
   "cell_type": "code",
   "execution_count": 18,
   "metadata": {},
   "outputs": [
    {
     "data": {
      "image/png": "[encoded data removed]",
      "text/plain": [
       "plot without title"
      ]
     },
     "metadata": {},
     "output_type": "display_data"
    },
    {
     "data": {
      "image/png": "[encoded data removed]",
      "text/plain": [
       "plot without title"
      ]
     },
     "metadata": {},
     "output_type": "display_data"
    }
   ],
   "source": [
    "compute_s_n <- function(n) {\n",
    "    x <- 1:n\n",
    "    sum(x)\n",
    "}\n",
    "\n",
    "m <- 100\n",
    "s_n <- vector(length = m)\n",
    "for(n in 1:m) {\n",
    "    s_n[n] <- compute_s_n(n)\n",
    "}\n",
    "\n",
    "n <- 1:m\n",
    "plot(n, s_n)\n",
    "plot(n, log(s_n, 10))"
   ]
  },
  {
   "cell_type": "markdown",
   "metadata": {},
   "source": [
    "### Vectorization and Functionals"
   ]
  },
  {
   "cell_type": "markdown",
   "metadata": {},
   "source": [
    "Vectors are preferred in R because they are fast, but functions created for scalars don't work with vectors.  Functionals are functions that help apply scalar-based functions to vectors by applying the function to each value in the vector."
   ]
  },
  {
   "cell_type": "code",
   "execution_count": 21,
   "metadata": {},
   "outputs": [
    {
     "data": {
      "text/html": [
       "<ol class=list-inline>\n",
       "\t<li>1</li>\n",
       "\t<li>1.4142135623731</li>\n",
       "\t<li>1.73205080756888</li>\n",
       "\t<li>2</li>\n",
       "\t<li>2.23606797749979</li>\n",
       "\t<li>2.44948974278318</li>\n",
       "\t<li>2.64575131106459</li>\n",
       "\t<li>2.82842712474619</li>\n",
       "\t<li>3</li>\n",
       "\t<li>3.16227766016838</li>\n",
       "\t<li>3.3166247903554</li>\n",
       "\t<li>3.46410161513775</li>\n",
       "\t<li>3.60555127546399</li>\n",
       "\t<li>3.74165738677394</li>\n",
       "\t<li>3.87298334620742</li>\n",
       "\t<li>4</li>\n",
       "\t<li>4.12310562561766</li>\n",
       "\t<li>4.24264068711928</li>\n",
       "\t<li>4.35889894354067</li>\n",
       "\t<li>4.47213595499958</li>\n",
       "\t<li>4.58257569495584</li>\n",
       "\t<li>4.69041575982343</li>\n",
       "\t<li>4.79583152331272</li>\n",
       "\t<li>4.89897948556636</li>\n",
       "\t<li>5</li>\n",
       "</ol>\n"
      ],
      "text/latex": [
       "\\begin{enumerate*}\n",
       "\\item 1\n",
       "\\item 1.4142135623731\n",
       "\\item 1.73205080756888\n",
       "\\item 2\n",
       "\\item 2.23606797749979\n",
       "\\item 2.44948974278318\n",
       "\\item 2.64575131106459\n",
       "\\item 2.82842712474619\n",
       "\\item 3\n",
       "\\item 3.16227766016838\n",
       "\\item 3.3166247903554\n",
       "\\item 3.46410161513775\n",
       "\\item 3.60555127546399\n",
       "\\item 3.74165738677394\n",
       "\\item 3.87298334620742\n",
       "\\item 4\n",
       "\\item 4.12310562561766\n",
       "\\item 4.24264068711928\n",
       "\\item 4.35889894354067\n",
       "\\item 4.47213595499958\n",
       "\\item 4.58257569495584\n",
       "\\item 4.69041575982343\n",
       "\\item 4.79583152331272\n",
       "\\item 4.89897948556636\n",
       "\\item 5\n",
       "\\end{enumerate*}\n"
      ],
      "text/markdown": [
       "1. 1\n",
       "2. 1.4142135623731\n",
       "3. 1.73205080756888\n",
       "4. 2\n",
       "5. 2.23606797749979\n",
       "6. 2.44948974278318\n",
       "7. 2.64575131106459\n",
       "8. 2.82842712474619\n",
       "9. 3\n",
       "10. 3.16227766016838\n",
       "11. 3.3166247903554\n",
       "12. 3.46410161513775\n",
       "13. 3.60555127546399\n",
       "14. 3.74165738677394\n",
       "15. 3.87298334620742\n",
       "16. 4\n",
       "17. 4.12310562561766\n",
       "18. 4.24264068711928\n",
       "19. 4.35889894354067\n",
       "20. 4.47213595499958\n",
       "21. 4.58257569495584\n",
       "22. 4.69041575982343\n",
       "23. 4.79583152331272\n",
       "24. 4.89897948556636\n",
       "25. 5\n",
       "\n",
       "\n"
      ],
      "text/plain": [
       " [1] 1.000000 1.414214 1.732051 2.000000 2.236068 2.449490 2.645751 2.828427\n",
       " [9] 3.000000 3.162278 3.316625 3.464102 3.605551 3.741657 3.872983 4.000000\n",
       "[17] 4.123106 4.242641 4.358899 4.472136 4.582576 4.690416 4.795832 4.898979\n",
       "[25] 5.000000"
      ]
     },
     "metadata": {},
     "output_type": "display_data"
    },
    {
     "data": {
      "image/png": "[encoded data removed]",
      "text/plain": [
       "plot without title"
      ]
     },
     "metadata": {},
     "output_type": "display_data"
    }
   ],
   "source": [
    "x <- 1:25\n",
    "sapply(x, sqrt)\n",
    "plot(x, sapply(x, sqrt))  # Don't use arguments after the function name!"
   ]
  },
  {
   "cell_type": "markdown",
   "metadata": {},
   "source": [
    "You can use sapply() with your own functions:"
   ]
  },
  {
   "cell_type": "code",
   "execution_count": 31,
   "metadata": {},
   "outputs": [
    {
     "data": {
      "image/png": "[encoded data removed]",
      "text/plain": [
       "plot without title"
      ]
     },
     "metadata": {},
     "output_type": "display_data"
    }
   ],
   "source": [
    "compute_s_n <- function(n) {\n",
    "    x <- 1:n\n",
    "    sum(x)\n",
    "}\n",
    "\n",
    "m <- 1:100\n",
    "s_n <- sapply(m, compute_s_n)\n",
    "\n",
    "plot(m, s_n)"
   ]
  },
  {
   "cell_type": "markdown",
   "metadata": {},
   "source": [
    "### 3.6 Exercises"
   ]
  },
  {
   "cell_type": "code",
   "execution_count": null,
   "metadata": {},
   "outputs": [],
   "source": []
  }
 ],
 "metadata": {
  "kernelspec": {
   "display_name": "R",
   "language": "R",
   "name": "ir"
  },
  "language_info": {
   "codemirror_mode": "r",
   "file_extension": ".r",
   "mimetype": "text/x-r-source",
   "name": "R",
   "pygments_lexer": "r",
   "version": "3.6.1"
  }
 },
 "nbformat": 4,
 "nbformat_minor": 4
}
